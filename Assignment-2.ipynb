{
 "metadata": {
  "language_info": {
   "codemirror_mode": {
    "name": "ipython",
    "version": 3
   },
   "file_extension": ".py",
   "mimetype": "text/x-python",
   "name": "python",
   "nbconvert_exporter": "python",
   "pygments_lexer": "ipython3",
   "version": "3.8.6-final"
  },
  "orig_nbformat": 2,
  "kernelspec": {
   "name": "Python 3.8.6 64-bit",
   "display_name": "Python 3.8.6 64-bit",
   "metadata": {
    "interpreter": {
     "hash": "3e0d8e2b8d0bf3b0936ad95b6c8328355e9d4a1c5e266e7efc4e457af28d2387"
    }
   }
  }
 },
 "nbformat": 4,
 "nbformat_minor": 2,
 "cells": [
  {
   "cell_type": "code",
   "execution_count": 1,
   "metadata": {},
   "outputs": [],
   "source": [
    "import os\n",
    "import re\n",
    "import time\n",
    "from random import randint\n",
    "from decimal import *\n",
    "\n",
    "import pandas as pd\n",
    "import numpy as np"
   ]
  },
  {
   "cell_type": "code",
   "execution_count": 2,
   "metadata": {},
   "outputs": [
    {
     "output_type": "stream",
     "name": "stdout",
     "text": [
      "0.06328558921813965\nDone\n"
     ]
    }
   ],
   "source": [
    "data = pd.read_csv('sample.csv')\n",
    "data_doc = {}\n",
    "i = 0\n",
    "t0 = time.time()\n",
    "for value in data[\"content\"]:\n",
    "    data = re.sub(\"[^\\w]\", \" \", value.lower())\n",
    "    data = ' '.join(data.split())\n",
    "    data = data.replace('\\r', '')\n",
    "    data = data.replace('\\t', '')\n",
    "    data_doc[i] = data.split()\n",
    "    if data_doc[i]:\n",
    "        i = i+1\n",
    "    else:\n",
    "        del data_doc[i]\n",
    "print(time.time() - t0)\n",
    "print(\"Done\")"
   ]
  },
  {
   "cell_type": "code",
   "execution_count": 5,
   "metadata": {},
   "outputs": [
    {
     "output_type": "stream",
     "name": "stdout",
     "text": [
      "Data Processing\n",
      "                                                     0    1    2    3    4   \\\n",
      "hire day laborers once the workers gathered around  NaN  NaN  NaN  NaN  NaN   \n",
      "prevailed inside the company if one sells sandw...  NaN  NaN  NaN  NaN  NaN   \n",
      "be attorney general has either not gotten meetings  NaN  NaN  NaN  NaN  NaN   \n",
      "to broadcasters ms kelly s special performed about  NaN  NaN  NaN  NaN  NaN   \n",
      "while facing slightly expanded democratic minor...  NaN  NaN  NaN  NaN  NaN   \n",
      "...                                                 ...  ...  ...  ...  ...   \n",
      "managed to avoid scaring her by leaving out         NaN  NaN  NaN  NaN  NaN   \n",
      "names of some of the clients targets in             NaN  NaN  NaN  NaN  NaN   \n",
      "virtuous kind and gentle people he could ever       NaN  NaN  NaN  NaN  NaN   \n",
      "you re stripped of everything except your dignity   NaN  NaN  NaN  NaN  NaN   \n",
      "floundered in the ratings among his moves since     NaN  NaN  NaN  NaN  NaN   \n",
      "\n",
      "                                                     5    6    7    8    9   \\\n",
      "hire day laborers once the workers gathered around  NaN  NaN  NaN  NaN  NaN   \n",
      "prevailed inside the company if one sells sandw...  NaN  NaN  NaN  NaN  NaN   \n",
      "be attorney general has either not gotten meetings  NaN  NaN  NaN  NaN  NaN   \n",
      "to broadcasters ms kelly s special performed about  NaN  NaN  NaN  NaN  NaN   \n",
      "while facing slightly expanded democratic minor...  NaN  NaN  NaN  NaN  NaN   \n",
      "...                                                 ...  ...  ...  ...  ...   \n",
      "managed to avoid scaring her by leaving out         NaN  NaN  NaN  NaN  NaN   \n",
      "names of some of the clients targets in             NaN  NaN  NaN  NaN  NaN   \n",
      "virtuous kind and gentle people he could ever       NaN  NaN  NaN  NaN  NaN   \n",
      "you re stripped of everything except your dignity   NaN  NaN  NaN  NaN  NaN   \n",
      "floundered in the ratings among his moves since     NaN  NaN  NaN  NaN  NaN   \n",
      "\n",
      "                                                    ...   89   90   91   92  \\\n",
      "hire day laborers once the workers gathered around  ...  NaN  NaN  NaN  NaN   \n",
      "prevailed inside the company if one sells sandw...  ...  NaN  NaN  NaN  NaN   \n",
      "be attorney general has either not gotten meetings  ...  NaN  NaN  NaN  NaN   \n",
      "to broadcasters ms kelly s special performed about  ...  NaN  NaN  NaN  NaN   \n",
      "while facing slightly expanded democratic minor...  ...  NaN  NaN  NaN  NaN   \n",
      "...                                                 ...  ...  ...  ...  ...   \n",
      "managed to avoid scaring her by leaving out         ...  NaN  NaN  NaN  NaN   \n",
      "names of some of the clients targets in             ...  NaN  NaN  NaN  NaN   \n",
      "virtuous kind and gentle people he could ever       ...  NaN  NaN  NaN  NaN   \n",
      "you re stripped of everything except your dignity   ...  NaN  NaN  NaN  NaN   \n",
      "floundered in the ratings among his moves since     ...  NaN  NaN  NaN  NaN   \n",
      "\n",
      "                                                     93   94   95   96   97  \\\n",
      "hire day laborers once the workers gathered around  NaN  NaN  NaN  NaN  NaN   \n",
      "prevailed inside the company if one sells sandw...  NaN  NaN  NaN  NaN  NaN   \n",
      "be attorney general has either not gotten meetings  NaN  NaN  NaN  NaN  NaN   \n",
      "to broadcasters ms kelly s special performed about  NaN  NaN  NaN  NaN  NaN   \n",
      "while facing slightly expanded democratic minor...  NaN  NaN  NaN  NaN  NaN   \n",
      "...                                                 ...  ...  ...  ...  ...   \n",
      "managed to avoid scaring her by leaving out         NaN  NaN  NaN  NaN  NaN   \n",
      "names of some of the clients targets in             NaN  NaN  NaN  NaN  NaN   \n",
      "virtuous kind and gentle people he could ever       NaN  NaN  NaN  NaN  NaN   \n",
      "you re stripped of everything except your dignity   NaN  NaN  NaN  NaN  NaN   \n",
      "floundered in the ratings among his moves since     NaN  NaN  NaN  NaN  NaN   \n",
      "\n",
      "                                                     98  \n",
      "hire day laborers once the workers gathered around  NaN  \n",
      "prevailed inside the company if one sells sandw...  NaN  \n",
      "be attorney general has either not gotten meetings  NaN  \n",
      "to broadcasters ms kelly s special performed about  NaN  \n",
      "while facing slightly expanded democratic minor...  NaN  \n",
      "...                                                 ...  \n",
      "managed to avoid scaring her by leaving out         NaN  \n",
      "names of some of the clients targets in             NaN  \n",
      "virtuous kind and gentle people he could ever       NaN  \n",
      "you re stripped of everything except your dignity   NaN  \n",
      "floundered in the ratings among his moves since     NaN  \n",
      "\n",
      "[119554 rows x 99 columns]\n",
      "Time took for shingling: 70.15696024894714s\n"
     ]
    }
   ],
   "source": [
    "def shingling(documents, shingle_size=8,):\n",
    "\n",
    "    if os.path.exists('shingle_matrix.csv'):\n",
    "        print(\"Using Previous Pre-Processed Data\")\n",
    "        shingle_matrix = pd.read_csv(\"shingle_matrix.csv\")\n",
    "        return shingle_matrix\n",
    "\n",
    "    shingle_sets = {}\n",
    "    shingles = set()\n",
    "    t0 = time.time()\n",
    "\n",
    "    print(\"Data Processing\")\n",
    "\n",
    "    for i in range(0, len(documents)):\n",
    "        words = documents[i]\n",
    "\n",
    "        shingles_in_doc = set()\n",
    "\n",
    "        for index in range(len(words) - shingle_size + 1):\n",
    "\n",
    "            # K-Shingle formation\n",
    "            shingle = words[index:index+shingle_size]\n",
    "            shingle = ' '.join(shingle)\n",
    "\n",
    "            if shingle not in shingles:\n",
    "                shingles.add(shingle)\n",
    "\n",
    "            if shingle not in shingles_in_doc:\n",
    "                shingles_in_doc.add(shingle)\n",
    "\n",
    "            else:\n",
    "                del shingle\n",
    "                index = index - 1\n",
    "\n",
    "        shingle_sets[i] = shingles_in_doc\n",
    "\n",
    "    shingle_matrix = pd.DataFrame(index=[i for i in shingles], columns=[\n",
    "                                  i for i in range(len(shingle_sets))])\n",
    "    print(shingle_matrix)\n",
    "\n",
    "    for value in shingles:\n",
    "        for j in range(len(shingle_sets)):\n",
    "            if value in shingle_sets[j]:\n",
    "                shingle_matrix.at[value, j] = 1\n",
    "            else:\n",
    "                shingle_matrix.at[value, j] = 0\n",
    "    del shingles_in_doc, words, shingle_sets, shingles\n",
    "\n",
    "    shingle_matrix.to_csv('shingle_matrix.csv')\n",
    "    print(\"Time took for shingling: {}\".format(time.time()-t0)+\"s\")\n",
    "\n",
    "    return shingle_matrix\n",
    "\n",
    "\n",
    "sparse_matrix = shingling(data_doc)"
   ]
  },
  {
   "cell_type": "code",
   "execution_count": 6,
   "metadata": {},
   "outputs": [],
   "source": [
    "def hash_coeff(rows, no_of_hash_functions=100):\n",
    "\n",
    "    hashes = []\n",
    "    c = rows\n",
    "\n",
    "    for i in range(no_of_hash_functions):\n",
    "        def hash(x): \n",
    "            return (randint(1, 10*c)*int(x) + randint(1, 10*c)) % c\n",
    "        hashes.append(hash)\n",
    "\n",
    "    return hashes"
   ]
  },
  {
   "cell_type": "code",
   "execution_count": 9,
   "metadata": {
    "tags": []
   },
   "outputs": [
    {
     "output_type": "error",
     "ename": "KeyboardInterrupt",
     "evalue": "",
     "traceback": [
      "\u001b[1;31m---------------------------------------------------------------------------\u001b[0m",
      "\u001b[1;31mKeyboardInterrupt\u001b[0m                         Traceback (most recent call last)",
      "\u001b[1;32m<ipython-input-9-2877d3390e5b>\u001b[0m in \u001b[0;36m<module>\u001b[1;34m\u001b[0m\n\u001b[0;32m     28\u001b[0m     \u001b[0mprint\u001b[0m\u001b[1;33m(\u001b[0m\u001b[0mtime\u001b[0m\u001b[1;33m.\u001b[0m\u001b[0mtime\u001b[0m\u001b[1;33m(\u001b[0m\u001b[1;33m)\u001b[0m \u001b[1;33m-\u001b[0m \u001b[0mt0\u001b[0m\u001b[1;33m)\u001b[0m\u001b[1;33m\u001b[0m\u001b[1;33m\u001b[0m\u001b[0m\n\u001b[0;32m     29\u001b[0m \u001b[1;33m\u001b[0m\u001b[0m\n\u001b[1;32m---> 30\u001b[1;33m \u001b[0mminhash_matrix\u001b[0m \u001b[1;33m=\u001b[0m \u001b[0mminhash_sig_matrix\u001b[0m\u001b[1;33m(\u001b[0m\u001b[0msparse_matrix\u001b[0m\u001b[1;33m)\u001b[0m\u001b[1;33m\u001b[0m\u001b[1;33m\u001b[0m\u001b[0m\n\u001b[0m",
      "\u001b[1;32m<ipython-input-9-2877d3390e5b>\u001b[0m in \u001b[0;36mminhash_sig_matrix\u001b[1;34m(sparse_matrix, hash_functions)\u001b[0m\n\u001b[0;32m     21\u001b[0m                         \u001b[0mminhash_matrix\u001b[0m\u001b[1;33m.\u001b[0m\u001b[0mat\u001b[0m\u001b[1;33m[\u001b[0m\u001b[0mk\u001b[0m\u001b[1;33m,\u001b[0m \u001b[0mj\u001b[0m\u001b[1;33m]\u001b[0m \u001b[1;33m=\u001b[0m \u001b[0msignature\u001b[0m\u001b[1;33m[\u001b[0m\u001b[0mk\u001b[0m\u001b[1;33m]\u001b[0m\u001b[1;33m(\u001b[0m\u001b[0mj\u001b[0m\u001b[1;33m)\u001b[0m\u001b[1;33m\u001b[0m\u001b[1;33m\u001b[0m\u001b[0m\n\u001b[0;32m     22\u001b[0m                     \u001b[1;32melse\u001b[0m\u001b[1;33m:\u001b[0m\u001b[1;33m\u001b[0m\u001b[1;33m\u001b[0m\u001b[0m\n\u001b[1;32m---> 23\u001b[1;33m                         minhash_matrix.at[k, j] = min(\n\u001b[0m\u001b[0;32m     24\u001b[0m                             minhash_matrix.at[k, j], signature[k](j))\n\u001b[0;32m     25\u001b[0m     \u001b[0mminhash_matrix\u001b[0m \u001b[1;33m=\u001b[0m \u001b[0mminhash_matrix\u001b[0m\u001b[1;33m.\u001b[0m\u001b[0mloc\u001b[0m\u001b[1;33m[\u001b[0m\u001b[1;33m:\u001b[0m\u001b[1;33m,\u001b[0m \u001b[1;33m~\u001b[0m\u001b[0mminhash_matrix\u001b[0m\u001b[1;33m.\u001b[0m\u001b[0mcolumns\u001b[0m\u001b[1;33m.\u001b[0m\u001b[0mstr\u001b[0m\u001b[1;33m.\u001b[0m\u001b[0mcontains\u001b[0m\u001b[1;33m(\u001b[0m\u001b[1;34m'^Unnamed'\u001b[0m\u001b[1;33m)\u001b[0m\u001b[1;33m]\u001b[0m\u001b[1;33m\u001b[0m\u001b[1;33m\u001b[0m\u001b[0m\n",
      "\u001b[1;32m~\\AppData\\Local\\Programs\\Python\\Python38\\lib\\site-packages\\pandas\\core\\indexing.py\u001b[0m in \u001b[0;36m__setitem__\u001b[1;34m(self, key, value)\u001b[0m\n\u001b[0;32m   2089\u001b[0m             \u001b[1;32mreturn\u001b[0m\u001b[1;33m\u001b[0m\u001b[1;33m\u001b[0m\u001b[0m\n\u001b[0;32m   2090\u001b[0m \u001b[1;33m\u001b[0m\u001b[0m\n\u001b[1;32m-> 2091\u001b[1;33m         \u001b[1;32mreturn\u001b[0m \u001b[0msuper\u001b[0m\u001b[1;33m(\u001b[0m\u001b[1;33m)\u001b[0m\u001b[1;33m.\u001b[0m\u001b[0m__setitem__\u001b[0m\u001b[1;33m(\u001b[0m\u001b[0mkey\u001b[0m\u001b[1;33m,\u001b[0m \u001b[0mvalue\u001b[0m\u001b[1;33m)\u001b[0m\u001b[1;33m\u001b[0m\u001b[1;33m\u001b[0m\u001b[0m\n\u001b[0m\u001b[0;32m   2092\u001b[0m \u001b[1;33m\u001b[0m\u001b[0m\n\u001b[0;32m   2093\u001b[0m \u001b[1;33m\u001b[0m\u001b[0m\n",
      "\u001b[1;32m~\\AppData\\Local\\Programs\\Python\\Python38\\lib\\site-packages\\pandas\\core\\indexing.py\u001b[0m in \u001b[0;36m__setitem__\u001b[1;34m(self, key, value)\u001b[0m\n\u001b[0;32m   2040\u001b[0m             \u001b[1;32mraise\u001b[0m \u001b[0mValueError\u001b[0m\u001b[1;33m(\u001b[0m\u001b[1;34m\"Not enough indexers for scalar access (setting)!\"\u001b[0m\u001b[1;33m)\u001b[0m\u001b[1;33m\u001b[0m\u001b[1;33m\u001b[0m\u001b[0m\n\u001b[0;32m   2041\u001b[0m \u001b[1;33m\u001b[0m\u001b[0m\n\u001b[1;32m-> 2042\u001b[1;33m         \u001b[0mself\u001b[0m\u001b[1;33m.\u001b[0m\u001b[0mobj\u001b[0m\u001b[1;33m.\u001b[0m\u001b[0m_set_value\u001b[0m\u001b[1;33m(\u001b[0m\u001b[1;33m*\u001b[0m\u001b[0mkey\u001b[0m\u001b[1;33m,\u001b[0m \u001b[0mvalue\u001b[0m\u001b[1;33m=\u001b[0m\u001b[0mvalue\u001b[0m\u001b[1;33m,\u001b[0m \u001b[0mtakeable\u001b[0m\u001b[1;33m=\u001b[0m\u001b[0mself\u001b[0m\u001b[1;33m.\u001b[0m\u001b[0m_takeable\u001b[0m\u001b[1;33m)\u001b[0m\u001b[1;33m\u001b[0m\u001b[1;33m\u001b[0m\u001b[0m\n\u001b[0m\u001b[0;32m   2043\u001b[0m \u001b[1;33m\u001b[0m\u001b[0m\n\u001b[0;32m   2044\u001b[0m \u001b[1;33m\u001b[0m\u001b[0m\n",
      "\u001b[1;32m~\\AppData\\Local\\Programs\\Python\\Python38\\lib\\site-packages\\pandas\\core\\frame.py\u001b[0m in \u001b[0;36m_set_value\u001b[1;34m(self, index, col, value, takeable)\u001b[0m\n\u001b[0;32m   3143\u001b[0m             \u001b[0mengine\u001b[0m \u001b[1;33m=\u001b[0m \u001b[0mself\u001b[0m\u001b[1;33m.\u001b[0m\u001b[0mindex\u001b[0m\u001b[1;33m.\u001b[0m\u001b[0m_engine\u001b[0m\u001b[1;33m\u001b[0m\u001b[1;33m\u001b[0m\u001b[0m\n\u001b[0;32m   3144\u001b[0m             \u001b[0mloc\u001b[0m \u001b[1;33m=\u001b[0m \u001b[0mengine\u001b[0m\u001b[1;33m.\u001b[0m\u001b[0mget_loc\u001b[0m\u001b[1;33m(\u001b[0m\u001b[0mindex\u001b[0m\u001b[1;33m)\u001b[0m\u001b[1;33m\u001b[0m\u001b[1;33m\u001b[0m\u001b[0m\n\u001b[1;32m-> 3145\u001b[1;33m             \u001b[0mvalidate_numeric_casting\u001b[0m\u001b[1;33m(\u001b[0m\u001b[0mseries\u001b[0m\u001b[1;33m.\u001b[0m\u001b[0mdtype\u001b[0m\u001b[1;33m,\u001b[0m \u001b[0mvalue\u001b[0m\u001b[1;33m)\u001b[0m\u001b[1;33m\u001b[0m\u001b[1;33m\u001b[0m\u001b[0m\n\u001b[0m\u001b[0;32m   3146\u001b[0m \u001b[1;33m\u001b[0m\u001b[0m\n\u001b[0;32m   3147\u001b[0m             \u001b[0mseries\u001b[0m\u001b[1;33m.\u001b[0m\u001b[0m_values\u001b[0m\u001b[1;33m[\u001b[0m\u001b[0mloc\u001b[0m\u001b[1;33m]\u001b[0m \u001b[1;33m=\u001b[0m \u001b[0mvalue\u001b[0m\u001b[1;33m\u001b[0m\u001b[1;33m\u001b[0m\u001b[0m\n",
      "\u001b[1;31mKeyboardInterrupt\u001b[0m: "
     ]
    }
   ],
   "source": [
    "def minhash_sig_matrix(sparse_matrix, hash_functions=100,):\n",
    "    if os.path.exists(\"minhash_matrix.csv\"):\n",
    "        print(\"Pre Processed Data\")\n",
    "        minhash_matrix = pd.read_csv(\"minhash_matrix.csv\")\n",
    "        return minhash_matrix\n",
    "\n",
    "    t0 = time.time()\n",
    "\n",
    "    minhash_matrix = pd.DataFrame(index=[i for i in range(\n",
    "        hash_functions)], columns=sparse_matrix.columns)\n",
    "\n",
    "    rows, cols = sparse_matrix.shape\n",
    "\n",
    "    signature = hash_coeff(rows)\n",
    "\n",
    "    for i in sparse_matrix.index:\n",
    "        for j in sparse_matrix.columns:\n",
    "            if sparse_matrix.at[i, j] == 1:\n",
    "                for k in range(hash_functions):\n",
    "                    if np.isnan(minhash_matrix.at[k, j]):\n",
    "                        minhash_matrix.at[k, j] = signature[k](j)\n",
    "                    else:\n",
    "                        minhash_matrix.at[k, j] = min(\n",
    "                            minhash_matrix.at[k, j], signature[k](j))\n",
    "    minhash_matrix = minhash_matrix.loc[:, ~minhash_matrix.columns.str.contains('^Unnamed')]\n",
    "    minhash_matrix.to_csv(\"minhash_matrix.csv\")\n",
    "\n",
    "    print(time.time() - t0)\n",
    "\n",
    "minhash_matrix = minhash_sig_matrix(sparse_matrix)"
   ]
  },
  {
   "cell_type": "code",
   "execution_count": null,
   "metadata": {},
   "outputs": [],
   "source": [
    "def band_hashing(band, bucket_dict):\n",
    "    for col in band.columns:\n",
    "        h = hash(tuple(band[col].values))\n",
    "        if h in bucket_dict:\n",
    "            bucket_dict[h].append(col)\n",
    "        else:\n",
    "            bucket_dict[h] = [col]"
   ]
  },
  {
   "cell_type": "code",
   "execution_count": null,
   "metadata": {},
   "outputs": [],
   "source": [
    "def get_bucket_list(minhash_matrix, r):\n",
    "\n",
    "    n = minhash_matrix.shape[0]\n",
    "    b = n//r\n",
    "\n",
    "    bucket_list = [dict() for i in range(b)]\n",
    "\n",
    "    for i in range(0, n-r+1, r):\n",
    "        band = minhash_matrix.loc[i:i+r-1,:]\n",
    "\n",
    "        band_hashing(band, bucket_list[int(i/r)])\n",
    "        \n",
    "    return bucket_list"
   ]
  },
  {
   "cell_type": "code",
   "execution_count": null,
   "metadata": {},
   "outputs": [],
   "source": [
    "bucket_list = get_bucket_list(minhash_matrix, 2)"
   ]
  },
  {
   "cell_type": "code",
   "execution_count": null,
   "metadata": {
    "tags": []
   },
   "outputs": [],
   "source": [
    "print(bucket_list)"
   ]
  }
 ]
}